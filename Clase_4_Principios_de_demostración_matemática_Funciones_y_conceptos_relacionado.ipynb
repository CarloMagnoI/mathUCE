{
  "nbformat": 4,
  "nbformat_minor": 0,
  "metadata": {
    "colab": {
      "provenance": [],
      "toc_visible": true,
      "authorship_tag": "ABX9TyMdkCVV150MzXGDAlx5uufC",
      "include_colab_link": true
    },
    "kernelspec": {
      "name": "python3",
      "display_name": "Python 3"
    },
    "language_info": {
      "name": "python"
    }
  },
  "cells": [
    {
      "cell_type": "markdown",
      "metadata": {
        "id": "view-in-github",
        "colab_type": "text"
      },
      "source": [
        "<a href=\"https://colab.research.google.com/github/CarloMagnoI/mathUCE/blob/main/Clase_4_Principios_de_demostraci%C3%B3n_matem%C3%A1tica_Funciones_y_conceptos_relacionado.ipynb\" target=\"_parent\"><img src=\"https://colab.research.google.com/assets/colab-badge.svg\" alt=\"Open In Colab\"/></a>"
      ]
    },
    {
      "cell_type": "markdown",
      "source": [
        "# ***Clase 4: Principios de demostración matemática. Funciones y conceptos relacionado.***\n",
        "  \n",
        "En matemáticas, los conceptos de funciones, conjuntos y cardinalidad son fundamentales. Aquí te explicaré detalladamente estos temas, utilizando ejemplos y visualizaciones para facilitar la comprensión."
      ],
      "metadata": {
        "id": "nRGGQsa_69kN"
      }
    },
    {
      "cell_type": "markdown",
      "source": [
        "\n",
        "\n",
        "## 📈 ***Funciones***\n",
        "\n",
        "Una **función** es una relación que asocia cada elemento de un conjunto $(A)$ $(dominio)$ con un único elemento de un conjunto $(B)$ $(codominio)$. Esto se denota comúnmente como $( f: A \\to B )$. Por ejemplo, si tenemos la función $( f(x) = 3x )$, estamos diciendo que a cada valor de $(x)$ en el dominio, le corresponde un valor en el codominio multiplicado por 3."
      ],
      "metadata": {
        "id": "F3VwNw4t7Xl3"
      }
    },
    {
      "cell_type": "markdown",
      "source": [
        "\n",
        "### 🎨 *Definición Formal de Función*\n",
        "$[\n",
        "\\forall x \\in A, \\exists! y \\in P \\text{ tal que } y = f(x)\n",
        "]$\n",
        "\n",
        "En esta notación:\n",
        "- $(\\forall)$ significa \"para todo\".\n",
        "- $(\\in)$ significa \"pertenece a\".\n",
        "- $(\\exists!)$ significa \"existe un único\".\n",
        "- $(y = f(x))$ es la regla que define la relación entre $(x)$ y $(y)$.\n",
        "\n",
        "\n",
        "En donde:\n",
        "1. **Nombre de la función**:$( f )$\n",
        "2. **Regla de asociación**: La fórmula que define cómo se asocian los elementos. Ejemplo: $( f(x) = 3x )$\n",
        "3. **Dominio**: Conjunto de partida $( A )$\n",
        "4. **Codominio**: Conjunto de llegada $( B )$\n",
        "\n",
        "**Ejemplo**:\n",
        "- Si $( A )$ es el conjunto de los números reales $( \\mathbb{R} )$\n",
        "- $( B )$ también es el conjunto de los números reales $( \\mathbb{R} )$\n",
        "- La regla de asociación es $( f(x) = 3x )$\n",
        "\n",
        "Entonces, la función completa sería: $( f: \\mathbb{R} \\to \\mathbb{R} )$ definida por $( f(x) = 3x )$."
      ],
      "metadata": {
        "id": "y-gmBi9Q7ate"
      }
    },
    {
      "cell_type": "markdown",
      "source": [
        "\n",
        "\n",
        "### 🌟*Ejemplos y Notación*\n",
        "\n",
        "Considera una función más compleja, como $( f(x) = 3x^2 )$. Aquí, la función eleva al cuadrado el valor de $(x)$ y luego lo multiplica por 3.\n",
        "\n",
        "Visualizando esto en Python:\n",
        "\n"
      ],
      "metadata": {
        "id": "XwndOxyyxqTF"
      }
    },
    {
      "cell_type": "code",
      "source": [
        "# Definición de la relación entre A y B\n",
        "relacion = {\n",
        "    1: 3,\n",
        "    2: 12,\n",
        "    3: 27\n",
        "}\n",
        "\n",
        "# Imprimir la relación\n",
        "print(\"A (números)    B (números)\")\n",
        "for key, value in relacion.items():\n",
        "    print(f\"{key} -----------> {value}\")\n"
      ],
      "metadata": {
        "colab": {
          "base_uri": "https://localhost:8080/"
        },
        "id": "Lmh_RddkybI9",
        "outputId": "d57de8d4-b067-4673-a074-a74e083fd1a9"
      },
      "execution_count": null,
      "outputs": [
        {
          "output_type": "stream",
          "name": "stdout",
          "text": [
            "A (números)    B (números)\n",
            "1 -----------> 3\n",
            "2 -----------> 12\n",
            "3 -----------> 27\n"
          ]
        }
      ]
    },
    {
      "cell_type": "markdown",
      "source": [
        "Cada elemento $(x)$ en el dominio $(A)$ se asocia con un valor $(y)$ en el codominio $(B)$ a través de la regla $( f(x) = 3x^2 )$."
      ],
      "metadata": {
        "id": "FIqfNEnYAbhf"
      }
    },
    {
      "cell_type": "markdown",
      "source": [
        "*Ejemplos no Numéricos*\n",
        "\n",
        "\n",
        "Las funciones no siempre tienen que ser numéricas. Considera una función que asocia palabras en español con sus letras iniciales.\n",
        "\n",
        "- Ejemplo:\n",
        "  - Conjunto $( \\Omega )$: Palabras en español.\n",
        "  - Conjunto $( \\Delta )$: Letras del alfabeto.\n",
        "  - Función $( I: \\Omega \\to \\Delta )$ que asigna a cada palabra su letra inicial.\n",
        "  - Si $( \\Omega = \\{ \\text{\"marsupial\"} \\} )$, entonces $( I(\\text{\"marsupial\"}) = \\text{\"m\"} )$.\n"
      ],
      "metadata": {
        "id": "uke0eKNtE9Uj"
      }
    },
    {
      "cell_type": "markdown",
      "source": [
        "### 🔄 ***Regla de Asociación***\n",
        "\n",
        "Una regla de asociación en una función especifica cómo se relacionan los elementos de dos conjuntos. Por ejemplo, en la función $( f(x) = 3x )$, la regla de asociación multiplica el valor de $( x )$ por 3 para obtener el valor de $( y )$.\n"
      ],
      "metadata": {
        "id": "q8jrVHGwA66R"
      }
    },
    {
      "cell_type": "markdown",
      "source": [
        "\n",
        "#### 🎯 ***Concepto de Imagen y Preimagen***\n",
        "\n",
        "- **Imagen**: Es el valor $( y )$ en el codominio que se obtiene al aplicar la función a un valor $( x )$ del dominio.\n",
        "  - Ejemplo: Si $( f(x) = 3x )$ y $( x = 2 )$, entonces la imagen de 2 es $( f(2) = 6 )$.\n",
        "  \n",
        "- **Preimagen**: Es el valor $( x )$ en el dominio que se mapea a un valor $( y )$ en el codominio.\n",
        "  - Ejemplo: Si $( f(x) = 3x )$ y sabemos que $( f(x) = 6 )$, la preimagen de 6 es $( x = 2 )$.\n"
      ],
      "metadata": {
        "id": "6BhZKP7PAy1q"
      }
    },
    {
      "cell_type": "markdown",
      "source": [
        "\n",
        "### 📘 ***Definición Formal de Imagen y Pre-Imagen***\n",
        "\n",
        "\n"
      ],
      "metadata": {
        "id": "uN06uP_8LsKF"
      }
    },
    {
      "cell_type": "code",
      "source": [
        "import matplotlib.pyplot as plt\n",
        "import matplotlib.patches as patches\n",
        "\n",
        "# Create a figure and a set of subplots\n",
        "fig, ax = plt.subplots()\n",
        "\n",
        "# Function to draw arrows with text\n",
        "def draw_arrow(ax, start, end, text, color):\n",
        "    ax.annotate(\n",
        "        '', xy=end, xytext=start,\n",
        "        arrowprops=dict(facecolor=color, edgecolor=color, arrowstyle='->', lw=1.5),\n",
        "    )\n",
        "    ax.text(\n",
        "        (start[0] + end[0]) / 2, (start[1] + end[1]) / 2, text,\n",
        "        ha='center', va='center', color=color, fontsize=12, fontweight='bold'\n",
        "    )\n",
        "\n",
        "import matplotlib.pyplot as plt\n",
        "import matplotlib.patches as patches\n",
        "\n",
        "# Create a figure and a set of subplots\n",
        "fig, ax = plt.subplots()\n",
        "\n",
        "# Function to draw arrows with text\n",
        "def draw_arrow(ax, start, end, text, color, text_offset=(0, 0)):\n",
        "    ax.annotate(\n",
        "        '', xy=end, xytext=start,\n",
        "        arrowprops=dict(facecolor=color, edgecolor=color, arrowstyle='->', lw=1.5),\n",
        "    )\n",
        "    ax.text(\n",
        "        (start[0] + end[0]) / 2 + text_offset[0], (start[1] + end[1]) / 2 + text_offset[1], text,\n",
        "        ha='center', va='center', color=color, fontsize=12, fontweight='bold'\n",
        "    )\n",
        "\n",
        "# Draw ellipses\n",
        "ellipse_a = patches.Ellipse((0.2, 0.8), width=0.4, height=0.3, edgecolor='red', facecolor='none', lw=2)\n",
        "ellipse_e = patches.Ellipse((0.2, 0.8), width=0.1, height=0.05, edgecolor='blue', facecolor='none', lw=2)\n",
        "ax.add_patch(ellipse_a)\n",
        "ax.add_patch(ellipse_e)\n",
        "\n",
        "# Draw rectangles\n",
        "rect_b = patches.Rectangle((0.6, 0.6), width=0.4, height=0.3, edgecolor='red', facecolor='none', lw=2)\n",
        "rect_f = patches.Rectangle((0.75, 0.75), width=0.1, height=0.05, edgecolor='green', facecolor='none', lw=2)\n",
        "ax.add_patch(rect_b)\n",
        "ax.add_patch(rect_f)\n",
        "\n",
        "# Draw arrows and text\n",
        "draw_arrow(ax, (0.35, 0.85), (0.75, 0.75), 'f', 'red', text_offset=(0, 0.05))\n",
        "draw_arrow(ax, (0.75, 0.75), (0.65, 0.65), 'f(E)', 'blue', text_offset=(-0.1, -0.05))\n",
        "draw_arrow(ax, (0.2, 0.8), (0.35, 0.85), 'x', 'red', text_offset=(0, 0.05))\n",
        "draw_arrow(ax, (0.1, 0.8), (0.2, 0.8), 'f^(-1)', 'green', text_offset=(0, 0.05))\n",
        "\n",
        "# Add text for sets and elements\n",
        "ax.text(0.2, 0.9, 'A', ha='center', va='center', fontsize=14, color='red', fontweight='bold')\n",
        "ax.text(0.8, 0.9, 'B', ha='center', va='center', fontsize=14, color='red', fontweight='bold')\n",
        "ax.text(0.2, 0.8, 'E', ha='center', va='center', fontsize=12, color='blue', fontweight='bold')\n",
        "ax.text(0.75, 0.75, 'F', ha='center', va='center', fontsize=12, color='green', fontweight='bold')\n",
        "ax.text(0.7, 0.7, 'f(E)', ha='center', va='center', fontsize=12, color='blue', fontweight='bold')\n",
        "\n",
        "# Set limits and hide axes\n",
        "ax.set_xlim(0, 1)\n",
        "ax.set_ylim(0, 1)\n",
        "ax.axis('off')\n",
        "\n",
        "# Show plot\n",
        "plt.show()\n",
        "\n"
      ],
      "metadata": {
        "colab": {
          "base_uri": "https://localhost:8080/",
          "height": 824
        },
        "id": "NLtCB77JL0gE",
        "outputId": "ce421227-f3a2-4566-955f-76580d6ed4be"
      },
      "execution_count": null,
      "outputs": [
        {
          "output_type": "display_data",
          "data": {
            "text/plain": [
              "<Figure size 640x480 with 1 Axes>"
            ],
            "image/png": "[encoded data removed]"
          },
          "metadata": {}
        },
        {
          "output_type": "display_data",
          "data": {
            "text/plain": [
              "<Figure size 640x480 with 1 Axes>"
            ],
            "image/png": "[encoded data removed]"
          },
          "metadata": {}
        }
      ]
    },
    {
      "cell_type": "markdown",
      "source": [
        "En la imagen, podemos observar:\n",
        "\n",
        "- Un conjunto $( A )$con un subconjunto $( E )$.\n",
        "- Una función $( f )$ que mapea elementos de $( A )$ a $( B )$.\n",
        "- La imagen de $( E )$ en $( B )$.\n",
        "- La preimagen de un conjunto $( F )$ en $( A )$.\n",
        "- Ejemplos específicos de elementos y subconjuntos."
      ],
      "metadata": {
        "id": "5r_t5HxZPAJh"
      }
    },
    {
      "cell_type": "markdown",
      "source": [
        "\n",
        "#### 🎯  ***Definición de Función***\n",
        "\n",
        "Una **función** $( f )$ se define como una relación que asigna a cada elemento $( x )$ de un conjunto $( A )$ un único elemento en un conjunto $( B )$. Esto se denota como:\n",
        "\n",
        "$[ f: A \\to B ]$\n",
        "\n",
        "Para cada $( x \\in A )$, tenemos que $( f(x) \\in B )$.\n",
        "\n",
        "\n",
        "- ##### ***Imagen de un Conjunto*** $( E \\subseteq A )$\n",
        "\n",
        "\n",
        "Sea $( E $) un subconjunto de $( A )$. La **imagen** de $( E )$ bajo la función $( f )$ se define como:\n",
        "\n",
        "$[ f(E) := \\{ f(x) \\in B : x \\in E \\} ]$\n",
        "\n",
        "Esta es la colección de todos los valores $( f(x) )$ donde $( x )$ pertenece a $( E )$. Este conjunto se llama la **imagen de $( E )$**.\n",
        "\n",
        "- ##### ***Preimagen de un Conjunto*** $( F \\subseteq B )$\n",
        "\n",
        "Sea $( F )$ un subconjunto de $( B )$. La **preimagen** de $( F )$ bajo la función $( f )$ se define como:\n",
        "\n",
        "$[ f^{-1}(F) := \\{ x \\in A : f(x) \\in F \\} ]$\n",
        "\n",
        "Esta es la colección de todos los $( x )$ en $( A )$ tal que $( f(x) )$ pertenece a $( F )$. Este conjunto se llama la **preimagen de $( F )$**.\n",
        "\n",
        "- ##### ***Ejemplo Específico***\n",
        "\n",
        "Si $( y \\in B )$, entonces la preimagen de $( \\{ y \\} )$ bajo la función $( f )$ se denota como:\n",
        "\n",
        "$[ f^{-1}(\\{ y \\}) ]$\n",
        "\n",
        "- #### ***Notación Matemática de la imagen del ejemplo***\n",
        "Definimos la imagen de $( E )$ bajo $( f )$ como:\n",
        "\n",
        "$[ f(E) = \\{ f(x) \\in B \\mid x \\in E \\} ]$\n",
        "\n",
        "Esto significa que $( f(E) )$ es el conjunto de todas las imágenes de los elementos de $( E )$ bajo la función $( f )$. Entonces, podemos decir que $( f(E) )$ es un subconjunto de $( B )$:\n",
        "\n",
        "$[ f(E) \\subseteq B ]$\n",
        "\n"
      ],
      "metadata": {
        "id": "EzsbGR8HNeCK"
      }
    },
    {
      "cell_type": "markdown",
      "source": [
        "### 🌟 ***Ejemplo de funcion, con sus imagenes y preimagenes***"
      ],
      "metadata": {
        "id": "-wGxah0BTfaj"
      }
    },
    {
      "cell_type": "markdown",
      "source": [
        "#### ✅  *Función*\n",
        "\n",
        "\n",
        "$\\begin{aligned}\n",
        "&\\text{Sea } f: \\mathbb{R} \\to \\mathbb{R}\\\\\n",
        "&x \\mapsto f(x) = x^2 + 1\n",
        "\\end{aligned}\n",
        "]$\n",
        "\n",
        "$[\n",
        "f(\\mathbb{R}) = \\{ f(x) \\in \\mathbb{R} : x \\in \\mathbb{R} \\} = \\{ x^2 + 1 : x \\in \\mathbb{R} \\}\n",
        "]$\n",
        "\n",
        "$[\n",
        "f(\\mathbb{R}) = \\{ y \\in \\mathbb{R} : y \\geq 1 \\} = [1, +\\infty) \\subseteq \\mathbb{R}\n",
        "]$\n",
        "\n",
        "$[\n",
        "f^{-1}(( -10, 0 )) = \\{ x \\in \\mathbb{R} : f(x) \\in (-10, 0) \\} = \\emptyset\n",
        "]$\n",
        "\n",
        "\n"
      ],
      "metadata": {
        "id": "KGmqehO-TnaN"
      }
    },
    {
      "cell_type": "markdown",
      "source": [
        "####  🧮 *Gráfica de la Función en Python*\n",
        "\n",
        "A continuación, la función $( f(x) = x^2 + 1 )$ en el intervalo de $(\\mathbb{R})$:"
      ],
      "metadata": {
        "id": "LmAQuURLULPH"
      }
    },
    {
      "cell_type": "code",
      "source": [
        "import numpy as np\n",
        "import matplotlib.pyplot as plt\n",
        "\n",
        "# Definir la función\n",
        "def f(x):\n",
        "    return x**2 + 1\n",
        "\n",
        "# Crear un rango de valores de x\n",
        "x = np.linspace(-10, 10, 400)\n",
        "y = f(x)\n",
        "\n",
        "# Crear la gráfica\n",
        "plt.figure(figsize=(8, 6))\n",
        "plt.plot(x, y, label='$f(x) = x^2 + 1$')\n",
        "\n",
        "# Añadir anotaciones y líneas adicionales\n",
        "plt.axhline(y=1, color='r', linestyle='--', label='$y = 1$')\n",
        "plt.axhline(y=0, color='k', linestyle='-')\n",
        "plt.axvline(x=0, color='k', linestyle='-')\n",
        "plt.xlim([-10, 10])\n",
        "plt.ylim([-10, 100])\n",
        "\n",
        "# Añadir etiquetas y leyenda\n",
        "plt.xlabel('$x$')\n",
        "plt.ylabel('$f(x)$')\n",
        "plt.title('Gráfica de la función $f(x) = x^2 + 1$')\n",
        "plt.legend()\n",
        "plt.grid(True)\n",
        "plt.show()\n"
      ],
      "metadata": {
        "colab": {
          "base_uri": "https://localhost:8080/",
          "height": 568
        },
        "id": "Lq0bZ5NjUQp0",
        "outputId": "7a9ae14f-3d35-4d75-b035-783d1223ea36"
      },
      "execution_count": null,
      "outputs": [
        {
          "output_type": "display_data",
          "data": {
            "text/plain": [
              "<Figure size 800x600 with 1 Axes>"
            ],
            "image/png": "[encoded data removed]"
          },
          "metadata": {}
        }
      ]
    },
    {
      "cell_type": "markdown",
      "source": [
        "#### 📚 ***Explicación***\n",
        "1. **Función**:\n",
        "   - $( f(x) = x^2 + 1 )$ es una función que toma un número real $( x )$ y le suma 1 al cuadrado de $( x )$.\n",
        "\n",
        "2. **Imagen de $( \\mathbb{R} $) bajo $( f )$**:\n",
        "   - $( f(\\mathbb{R}) = \\{ y \\in \\mathbb{R} : y \\geq 1 \\} = [1, +\\infty) )$, esto significa que los valores de \\( f(x) \\) están en el intervalo $([1, +\\infty))$.\n",
        "\n",
        "3. **Preimagen de un intervalo**:\n",
        "   - La preimagen del intervalo $((-10, 0))$ bajo $( f )$ es el conjunto vacío $(\\emptyset)$ porque no hay valores de $( x )$ en los reales tales que $( x^2 + 1 )$ esté en $(-10, 0)$."
      ],
      "metadata": {
        "id": "MEq2W5qbV3Ew"
      }
    },
    {
      "cell_type": "markdown",
      "source": [
        "\n",
        "\n",
        "###  🤓 ***Otros conceptos clave***\n",
        "\n",
        "\n",
        "   ***Importancia de la Precisión en Matemáticas***\n",
        "\n",
        "  Las matemáticas son un lenguaje preciso que elimina las ambigüedades del lenguaje cotidiano. Cada concepto y símbolo tiene un significado claro y específico, lo cual permite un entendimiento riguroso y exacto.\n",
        "    \n",
        "  ***Principios de Demostración***\n",
        "\n",
        "   En matemáticas, los principios de demostración son fundamentales para validar proposiciones y teoremas. Las demostraciones deben ser claras, lógicas y seguir un razonamiento deductivo basado en axiomas y teoremas previamente establecidos.\n"
      ],
      "metadata": {
        "id": "xUGMHgonyRSb"
      }
    },
    {
      "cell_type": "markdown",
      "source": [
        "\n",
        "\n",
        "\n",
        "## ***Conjuntos*** 🟦\n",
        "\n",
        "Un conjunto es una colección de elementos. Los conjuntos se pueden representar de diferentes maneras y pueden contener números, letras, objetos, etc. La notación de conjuntos se hace usualmente con llaves:\n",
        "\n",
        "- Ejemplos de Conjuntos\n",
        "  - $( A = \\{ 1, 2, 3 \\} )$\n",
        "  - $( B = \\{ a, b, c \\} )$\n",
        "\n",
        "Podemos realizar varias operaciones con conjuntos, como la unión $(( \\cup ))$, la intersección $(( \\cap ))$, y la diferencia $(( \\setminus ))$."
      ],
      "metadata": {
        "id": "AJq3a2WpAmY6"
      }
    },
    {
      "cell_type": "markdown",
      "source": [
        "\n",
        "\n",
        "## ***Cardinalidad*** 🔢\n",
        "\n",
        "La cardinalidad de un conjunto es el número de elementos que contiene. Si $( A = \\{ 1, 2, 3 \\} )$, la cardinalidad de $( A )$ es 3.\n",
        "\n",
        "Cardinalidad en Conjuntos Infinitos:\n",
        "Para conjuntos finitos, la cardinalidad es simplemente el conteo de elementos. Sin embargo, cuando tratamos con conjuntos infinitos, la situación se vuelve más interesante. Por ejemplo, el conjunto de los números naturales $( \\mathbb{N} )$ tiene una cardinalidad infinita.\n"
      ],
      "metadata": {
        "id": "xR2jobnPApG9"
      }
    },
    {
      "cell_type": "markdown",
      "source": [
        "## 🎓 ***Conclusión***\n",
        "\n",
        "En resumen, hemos explorado los conceptos fundamentales de funciones, conjuntos, imágenes y preimágenes en matemáticas, destacando su importancia y aplicabilidad. Comprender cómo se definen y relacionan estos conceptos nos permite abordar problemas matemáticos con rigor y precisión. Esta base es esencial para avanzar en el estudio de las matemáticas y aplicarlas efectivamente en diversas disciplinas. A través de ejemplos y notaciones formales, hemos visto cómo las funciones mapean elementos entre conjuntos y cómo se analizan sus imágenes y preimágenes, facilitando una comprensión profunda de las relaciones matemáticas.\n"
      ],
      "metadata": {
        "id": "ueu6FuDRYBm5"
      }
    }
  ]
}