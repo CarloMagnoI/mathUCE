{
  "nbformat": 4,
  "nbformat_minor": 0,
  "metadata": {
    "colab": {
      "provenance": [],
      "toc_visible": true,
      "authorship_tag": "ABX9TyMUxNJpiHDxvnGFzQ3qM7VB",
      "include_colab_link": true
    },
    "kernelspec": {
      "name": "python3",
      "display_name": "Python 3"
    },
    "language_info": {
      "name": "python"
    }
  },
  "cells": [
    {
      "cell_type": "markdown",
      "metadata": {
        "id": "view-in-github",
        "colab_type": "text"
      },
      "source": [
        "<a href=\"https://colab.research.google.com/github/CarloMagnoI/mathUCE/blob/main/Clase_3_Entorno_de_Python%2C_variables_y_operadores_Principios_de_demostraci%C3%B3n_matem%C3%A1tica.ipynb\" target=\"_parent\"><img src=\"https://colab.research.google.com/assets/colab-badge.svg\" alt=\"Open In Colab\"/></a>"
      ]
    },
    {
      "cell_type": "markdown",
      "source": [
        "# 📘 Clase 3: Entorno de Python, variables y operadores. Principios de demostración matemática.\n"
      ],
      "metadata": {
        "id": "s7ZWvYf0ICkp"
      }
    },
    {
      "cell_type": "markdown",
      "source": [
        "\n",
        "\n",
        "## 🌟 Introducción a Python"
      ],
      "metadata": {
        "id": "5YH-6VzJI5N1"
      }
    },
    {
      "cell_type": "markdown",
      "source": [
        "\n",
        "### 🔧 Características de Python\n",
        "- **Interpretado**: Python es un lenguaje interpretado, lo que significa que el código se ejecuta línea por línea por un intérprete. Esto facilita la depuración y permite una ejecución interactiva.\n",
        "- **Multiplataforma**: Puede ejecutarse en varios sistemas operativos como Windows, macOS y Linux sin cambios en el código.\n",
        "- **Lenguaje de Alto Nivel**: Proporciona abstracciones de bajo nivel, lo que permite a los desarrolladores escribir programas más legibles y mantenibles.\n",
        "- **Dinamismo**: Python permite la tipificación dinámica, lo que significa que las variables pueden cambiar de tipo en tiempo de ejecución.\n",
        "- **Gran Ecosistema**: Posee una vasta colección de bibliotecas y frameworks, como NumPy para cálculos numéricos, Pandas para análisis de datos, y Django para desarrollo web."
      ],
      "metadata": {
        "id": "lstJbkOgI-nQ"
      }
    },
    {
      "cell_type": "markdown",
      "source": [
        "#### 🌟 Ventajas de Python\n",
        "- **Simplicidad y Legibilidad**: Su sintaxis es clara y concisa, lo que facilita el aprendizaje y la lectura del código.\n",
        "- **Gran Comunidad**: Amplio soporte comunitario con abundantes recursos educativos, foros de ayuda y bibliotecas de terceros.\n",
        "- **Versatilidad**: Uso en diversas áreas como desarrollo web, ciencia de datos, inteligencia artificial, automatización de tareas y más."
      ],
      "metadata": {
        "id": "tFL9fyvNJF_0"
      }
    },
    {
      "cell_type": "markdown",
      "source": [
        "\n",
        "#### 🌟 Desventajas de Python\n",
        "- **Rendimiento**: Puede ser más lento que los lenguajes compilados como C o C++ debido a su naturaleza interpretada.\n",
        "- **Consumo de Memoria**: El manejo dinámico de tipos puede llevar a un mayor consumo de memoria.\n",
        "- **No es Ideal para Mobile**: Aunque existen frameworks para desarrollo móvil (como Kivy), no es el lenguaje preferido en este ámbito."
      ],
      "metadata": {
        "id": "ji--B5k-JJpV"
      }
    },
    {
      "cell_type": "markdown",
      "source": [
        "#### 🌟 Buenas Prácticas en Python\n",
        "- **PEP 8**: Seguir la guía de estilo PEP 8 para mantener la consistencia y legibilidad del código.\n",
        "- **Comentarios y Documentación**: Usar comentarios y docstrings para documentar el propósito y uso de funciones y clases.\n",
        "- **Nombres Descriptivos**: Asignar nombres claros y significativos a variables y funciones.\n",
        "- **Modularización**: Dividir el código en módulos y funciones para facilitar el mantenimiento y la reutilización."
      ],
      "metadata": {
        "id": "N9NGFiriJaWJ"
      }
    },
    {
      "cell_type": "markdown",
      "source": [
        "### 🖥️ ¿Cómo funciona un programa de computadora?\n",
        "\n",
        "Un programa es el alma de una computadora. Es lo que transforma una colección de componentes electrónicos (hardware) en una herramienta increíblemente útil y poderosa."
      ],
      "metadata": {
        "id": "6aKPYkweJ0EX"
      }
    },
    {
      "cell_type": "markdown",
      "source": [
        "#### 🤖 La naturaleza de las computadoras\n",
        "\n",
        "A pesar de su capacidad para realizar tareas complejas, las computadoras en realidad son bastante simples en su naturaleza:\n",
        "\n",
        "- Solo pueden ejecutar operaciones muy básicas, como sumar, restar, multiplicar y dividir.\n",
        "- No tienen una comprensión inherente de conceptos abstractos o complejos.\n",
        "- Su poder radica en su capacidad para ejecutar estas operaciones simples a una velocidad increíblemente rápida y repetirlas tantas veces como sea necesario.\n",
        "\n",
        "###  🏎️ Un ejemplo práctico: calculando la velocidad media\n",
        "\n",
        "Supongamos que quieres calcular la velocidad media de un viaje en coche. Tienes la distancia recorrida y el tiempo que te ha llevado. ¿Cómo harías que una computadora calcule la velocidad media?\n",
        "\n",
        "Tendrías que darle instrucciones muy claras y paso a paso:\n",
        "\n",
        "1. Acepta un número que represente la distancia recorrida.\n",
        "2. Acepta un número que represente el tiempo que ha llevado el viaje.\n",
        "3. Divide el primer número (distancia) por el segundo número (tiempo) para obtener la velocidad media.\n",
        "4. Muestra el resultado de una forma que sea fácil de entender para un humano.\n",
        "\n",
        "Este conjunto de instrucciones es esencialmente un **programa** simple.\n"
      ],
      "metadata": {
        "id": "-tY0yV3PJ-bm"
      }
    },
    {
      "cell_type": "markdown",
      "source": [
        "\n",
        "\n",
        "#### 💬 El papel crucial del lenguaje de programación\n",
        "\n",
        "Por supuesto, las instrucciones en el ejemplo anterior están en lenguaje humano y una computadora no podría entenderlas directamente. Aquí es donde entran en juego los lenguajes de programación.\n",
        "\n",
        "Un lenguaje de programación actúa como un puente entre las instrucciones que un programador escribe y los comandos que una computadora puede ejecutar. Permite a los programadores escribir código en un formato que es razonablemente comprensible para los humanos, y luego traduce ese código a instrucciones muy precisas que una computadora puede seguir.\n",
        "\n",
        "A lo largo de este curso, aprenderás cómo utilizar Python 🐍, un potente y versátil lenguaje de programación, para escribir programas que pueden hacer todo tipo de cosas interesantes y útiles. ¡Prepárate para comenzar tu viaje en el mundo de la programación! 🚀"
      ],
      "metadata": {
        "id": "DpuLBfb0KOZ1"
      }
    },
    {
      "cell_type": "markdown",
      "source": [
        "### 🗣️🖥️ Lenguajes Naturales vs Lenguajes de Programación\n",
        "\n",
        "Los lenguajes son herramientas fascinantes para expresar y registrar pensamientos. 💭 Hay muchos tipos de lenguajes a nuestro alrededor, algunos de los cuales, como el lenguaje corporal, ni siquiera requieren hablar o escribir. 🤫"
      ],
      "metadata": {
        "id": "cApD1CDtKVbI"
      }
    },
    {
      "cell_type": "markdown",
      "source": [
        "\n",
        "####  🌍 Lenguajes Naturales\n",
        "\n",
        "Usamos lenguajes naturales, como nuestra lengua materna, cada día para comunicarnos y reflexionar sobre el mundo que nos rodea. Estos lenguajes evolucionan orgánicamente con el tiempo, con nuevas palabras surgiendo y otras cayendo en desuso. 📚\n"
      ],
      "metadata": {
        "id": "xUgeSmFpKaln"
      }
    },
    {
      "cell_type": "markdown",
      "source": [
        "\n",
        "#### 💻 Lenguajes de Programación\n",
        "\n",
        "Por otro lado, las computadoras tienen sus propios lenguajes, llamados lenguajes de programación. A diferencia de los lenguajes naturales, estos son muy estructurados y precisos. 🤖\n",
        "\n",
        "Las computadoras, incluso las más avanzadas, no tienen inteligencia inherente. Son como perros bien entrenados, respondiendo solo a un conjunto específico de comandos. 🐶 Estos comandos forman lo que se conoce como un **conjunto de instrucciones** o **IL** (Instruction List). 📜\n",
        "\n",
        "> 💡 Los lenguajes de programación son creados por humanos. Actualmente, ninguna computadora puede crear su propio lenguaje, aunque esto podría cambiar en el futuro."
      ],
      "metadata": {
        "id": "pGEfGAI5KoJT"
      }
    },
    {
      "cell_type": "markdown",
      "source": [
        "#### 🔑 Diferencias Clave\n",
        "\n",
        "| Lenguajes Naturales | Lenguajes de Programación |\n",
        "|---------------------|---------------------------|\n",
        "| Evolucionan orgánicamente | Diseñados intencionalmente |\n",
        "| Flexibles y ambiguos | Rígidos y precisos |\n",
        "| Usados para comunicación general | Usados para dar instrucciones a computadoras |"
      ],
      "metadata": {
        "id": "SFYLeu_uKvg0"
      }
    },
    {
      "cell_type": "markdown",
      "source": [
        "\n",
        "\n",
        "🔑**Comparación entre lenguajes compilados e interpretados**\n",
        "\n",
        "| Característica | Lenguaje Compilado | Lenguaje Interpretado |\n",
        "|----------------|--------------------|-----------------------|\n",
        "| Proceso de ejecución | El código fuente se traduce a lenguaje de máquina antes de la ejecución. | El código fuente se traduce y ejecuta línea por línea durante la ejecución. |\n",
        "| Velocidad de ejecución | Generalmente más rápido, ya que el código de máquina se genera antes de la ejecución. | Puede ser más lento, ya que la interpretación se realiza durante la ejecución. |\n",
        "| Portabilidad | El código compilado es específico para una plataforma y requiere recompilación para diferentes sistemas operativos. | El código fuente puede ejecutarse en diferentes plataformas sin necesidad de recompilación. |\n",
        "| Distribución | Se distribuye el archivo ejecutable compilado. | Se distribuye el código fuente junto con el intérprete. |\n",
        "| Detección de errores | Los errores se detectan durante la compilación, antes de la ejecución. | Los errores se detectan durante la ejecución, línea por línea. |\n",
        "| Ejemplos de lenguajes | - C 🦸‍♂️<br>- C++ 🦸‍♀️<br>- Java ☕<br>- Swift 🕊️<br>- Rust 🦀 | - Python 🐍<br>- JavaScript 🌐<br>- Ruby 💎<br>- PHP 🐘<br>- Lua 🌙 |\n",
        "\n",
        "La mayoría de los lenguajes de programación están diseñados para ser compilados o interpretados, y muy pocos pueden hacer ambas cosas. 🤔\n",
        "\n",
        "Ahora que conoces la diferencia entre compilación e interpretación, ¡estás listo para sumergirte en el fascinante mundo de la programación! 🚀✨"
      ],
      "metadata": {
        "id": "ElyAdBNrK3b3"
      }
    },
    {
      "cell_type": "markdown",
      "source": [
        "\n",
        "####  🎯 Conclusión\n",
        "\n",
        "Aunque sirven para propósitos similares, los lenguajes naturales y de programación tienen características muy diferentes. Entender estas diferencias es clave para aprender a comunicarse efectivamente tanto con humanos como con computadoras. 💬🖥️"
      ],
      "metadata": {
        "id": "Iq1QzMgSK_7i"
      }
    },
    {
      "cell_type": "markdown",
      "source": [
        "\n",
        "\n",
        "### 🌐 **¿Qué compone a un lenguaje?**\n",
        "\n",
        "¡Hola, futuros programadores de Python! 🐍 Vamos a explorar los elementos fundamentales que componen un lenguaje, ya sea de programación o natural. ¿Listos? ¡Vamos a sumergirnos en este fascinante mundo! 🚀"
      ],
      "metadata": {
        "id": "iFOF4v_ZLJH8"
      }
    },
    {
      "cell_type": "markdown",
      "source": [
        "\n",
        "\n",
        "#### 📚 Alfabeto\n",
        "\n",
        "Un alfabeto es un conjunto de símbolos utilizados para formar palabras en un lenguaje determinado. Por ejemplo:\n",
        "- El alfabeto latino para el inglés 🇺🇸\n",
        "- El alfabeto cirílico para el ruso 🇷🇺\n",
        "- El kanji para el japonés 🇯🇵\n",
        "\n",
        "Cada lenguaje tiene su propio alfabeto único. ¡Imagina las posibilidades infinitas de combinaciones de símbolos! 🌟\n",
        "\n",
        "En Python, el alfabeto está compuesto por:\n",
        "- Letras minúsculas (a-z) y mayúsculas (A-Z) 🔠\n",
        "- Dígitos (0-9) 🔢\n",
        "- Caracteres especiales (como `_`, `$`, `%`, etc.) 🔣\n",
        "\n",
        "Estos símbolos se combinan para formar palabras y expresiones en Python. ¡Es como un rompecabezas de código! 🧩"
      ],
      "metadata": {
        "id": "JiRvBr5TLWFa"
      }
    },
    {
      "cell_type": "markdown",
      "source": [
        "\n",
        "\n",
        "\n",
        "#### 📘 Léxico\n",
        "\n",
        "El léxico, también conocido como diccionario, es un conjunto de palabras que el lenguaje ofrece a sus usuarios. Por ejemplo:\n",
        "- La palabra \"computadora\" proviene del diccionario en inglés, mientras que \"cmoptrue\" no existe. 💻\n",
        "- La palabra \"chat\" está presente en los diccionarios de inglés y francés, pero sus significados son diferentes. 💬\n",
        "\n",
        "El léxico de un lenguaje es como una caja de herramientas llena de palabras que puedes utilizar para expresarte. ¡Elige sabiamente! 😄\n",
        "\n",
        "El léxico de Python incluye palabras clave y nombres de funciones predefinidas, como:\n",
        "- `print()` para imprimir en la consola 🖨️\n",
        "- `if` para condiciones ⚖️\n",
        "- `for` para bucles 🔄\n",
        "- `def` para definir funciones 🎨\n",
        "\n",
        "Estas palabras son las herramientas que utilizarás para construir tus programas. ¡Piensa en ellas como tu kit de construcción de código! 🛠️"
      ],
      "metadata": {
        "id": "X9t9S5SkLaz0"
      }
    },
    {
      "cell_type": "markdown",
      "source": [
        "\n",
        "\n",
        "#### 🎨 Sintaxis\n",
        "\n",
        "La sintaxis es un conjunto de reglas (formales o informales, escritas o interpretadas intuitivamente) utilizadas para determinar si una cadena de palabras forma una oración válida. Por ejemplo:\n",
        "- \"Soy una serpiente\" es una frase sintácticamente correcta. 🐍✅\n",
        "- \"Yo serpiente soy una\" no sigue las reglas sintácticas. 🐍❌\n",
        "\n",
        "La sintaxis es como las reglas de un juego. Si sigues las reglas, tu código funcionará sin problemas. Si no lo haces, ¡prepárate para algunos errores! 😅\n",
        "\n",
        "La sintaxis de Python"
      ],
      "metadata": {
        "id": "DRWi9INf2HgH"
      }
    },
    {
      "cell_type": "markdown",
      "source": [
        "### 📝 Ejemplos Prácticos y Ejercicios\n",
        "\n"
      ],
      "metadata": {
        "id": "NF7WzoqWKmy5"
      }
    },
    {
      "cell_type": "markdown",
      "source": [
        "#### 🌟 **Ejemplo 1: Calculadora de ecuación cuadrática**"
      ],
      "metadata": {
        "id": "2ELzurt8MYCJ"
      }
    },
    {
      "cell_type": "code",
      "source": [
        "import cmath\n",
        "print(\"Calculadora de Ecuaciones Cuadráticas\")\n",
        "print(\"Ingrese los parámetros de la Ecuación Cuadrática\")\n",
        "# Cargar datos\n",
        "a = float(input(\"Ingrese el parámetro a: \"))\n",
        "b = float(input(\"Ingrese el parámetro b: \"))\n",
        "c = float(input(\"Ingrese el parámetro c: \"))\n",
        "# Calcular las raíces\n",
        "raiz1 = (-b+(-b**2-4*a*c)**(1/2))/(2*a)\n",
        "raiz2 = (-b-(-b**2-4*a*c)**(1/2))/(2*a)\n",
        "# Imprimir las raíces\n",
        "print(\"Las raíces de la Ecuación Cuadrática son:\")\n",
        "print(\"Raíz 1:\", raiz1)\n",
        "print(\"Raíz 2:\", raiz2)"
      ],
      "metadata": {
        "colab": {
          "base_uri": "https://localhost:8080/"
        },
        "id": "0JSJxLFIEXRS",
        "outputId": "129f8765-4b62-47a4-d7f5-46456ca588ac"
      },
      "execution_count": null,
      "outputs": [
        {
          "output_type": "stream",
          "name": "stdout",
          "text": [
            "Calculadora de Ecuaciones Cuadráticas\n",
            "Ingrese los parámetros de la Ecuación Cuadrática\n",
            "Ingrese el parámetro a: 12\n",
            "Ingrese el parámetro b: 2\n",
            "Ingrese el parámetro c: 3\n",
            "Las raíces de la Ecuación Cuadrática son:\n",
            "Raíz 1: (-0.0833333333333333+0.5068968775248516j)\n",
            "Raíz 2: (-0.08333333333333337-0.5068968775248516j)\n"
          ]
        }
      ]
    },
    {
      "cell_type": "markdown",
      "source": [
        "## ✔️ ***Principios de demostración matemática***"
      ],
      "metadata": {
        "id": "l_98-_GkaT52"
      }
    },
    {
      "cell_type": "markdown",
      "source": [
        "###  ↔️ ***Simetrizacion***\n",
        "\n",
        "\\(ℕ ⊆ ℤ ⊆ ℚ ⊆ ℝ ⊆ ℑ ⊆\n",
        "$ℝ^2$ ⊆ $ℝ^3$ ⊆ $ℝ^n$ ⊆ $ℝ^ℕ$\\)"
      ],
      "metadata": {
        "id": "2xpzgwD3Wu67"
      }
    },
    {
      "cell_type": "markdown",
      "source": [
        "### 🤓 *¿Cómo sabemos que es imaginario?*\n",
        "\n",
        " $x^2-1=0$ ; $right$\n",
        "\n",
        " $x^2 +1=0$ ; $\\sqrt{-1} = i$ ; **NUMERO IMAGINARIO**\n",
        "\n",
        "\n"
      ],
      "metadata": {
        "id": "KLS3bE4fd-Md"
      }
    },
    {
      "cell_type": "markdown",
      "source": [
        "### 👨‍💻 ***Concepto de Conjunto Cardinal***\n",
        "\n",
        "En matemáticas, el conjunto cardinal de un conjunto $( A )$, denotado como $( |A| )$, representa el número de elementos distintos que contiene dicho conjunto.\n",
        "\n",
        "Por ejemplo, si tenemos un conjunto $( A )$ con los elementos $\\{1, 2, 3\\}$, entonces su conjunto cardinal es $( |A| = 3 )$, ya que hay tres elementos en $( A )$.\n",
        "\n",
        "  * **Fórmula**\n",
        "\n",
        "La fórmula general para calcular el conjunto cardinal de un conjunto \\( A \\) es:\n",
        "\n",
        "$[ |A| = \\text{Número de elementos en } A ]$\n",
        "\n",
        "  * **Ejemplo**\n",
        "\n",
        "Si tenemos un conjunto $( B )$ con elementos $( \\{a, b, c, d, e\\} )$, entonces $( |B| = 5 )$, porque hay cinco elementos en $( B )$.\n",
        "\n",
        " - $((X)=\\{1, 2, 3\\})$ ; aplicando producto cartesiano se genera:\n",
        " - $P(X) = \\{(1), (2), (3), (1, 2), (1,3), (2, 3)\\}$\n",
        "\n",
        "  - $cardinal(X)= 3$\n",
        "  - $ \\text{cardinalP}(X) = 2^{3} = 2^{\\text{cardinal}X} $\n",
        "\n",
        "\n",
        "\n"
      ],
      "metadata": {
        "id": "MneGGJA6g0xf"
      }
    },
    {
      "cell_type": "markdown",
      "source": [
        "### 🧮 ***Producto Cartesiano***\n",
        "\n",
        "El producto cartesiano es una operación fundamental en la teoría de conjuntos y se define entre dos conjuntos $( A )$ y $( B )$. Se denota como $( A \\times B )$ y representa el conjunto de todos los pares ordenados donde el primer elemento pertenece a $( A )$ y el segundo elemento pertenece a $( B )$.\n",
        "\n",
        "  - ***Ejemplos de Producto Cartesiano***\n",
        "\n",
        "     *Ejemplo 1*\n",
        "\n",
        "      Consideremos los conjuntos:\n",
        "- $( A = \\{ 1, 2 \\} )$\n",
        "- $( B = \\{ a, b, c \\} )$\n",
        "\n",
        "      Entonces, el producto cartesiano $( A \\times B )$ sería:\n",
        "      $[ A \\times B = \\{ (1, a), (1, b), (1, c), (2, a), (2, b), (2, c) \\} ]$\n",
        "\n",
        "      Esto representa todos los pares ordenados posibles donde el primer elemento es de \\( A \\) y el segundo elemento es de \\( B \\).\n",
        "\n",
        "    *Ejemplo 2*\n",
        "   \n",
        "      Ahora consideremos conjuntos numéricos:\n",
        "- \\( A = \\{ 3, 4, 5 \\} \\)\n",
        "- \\( B = \\{ 1, 2 \\} \\)\n",
        "\n",
        "      El producto cartesiano $( A \\times B )$ sería:\n",
        "      $[ A \\times B = \\{ (3, 1), (3, 2), (4, 1), (4, 2), (5, 1), (5, 2) \\} ]$\n",
        "\n",
        "      En este caso, cada elemento de $( A )$ se combina con cada elemento de $( B )$, resultando en seis pares ordenados diferentes.\n",
        "\n",
        "    *Ejemplo 3*\n",
        "   \n",
        "      Si uno de los conjuntos es el conjunto vacío $( \\emptyset )$:\n",
        "- $( A = \\{ 1, 2 \\} )$\n",
        "- $( B = \\emptyset )$\n",
        "\n",
        "     El producto cartesiano $( A \\times B )$ sería el conjunto vacío $( \\emptyset )$, ya que no hay elementos en $( B )$ para formar pares ordenados con los elementos de $( A )$.\n",
        "\n",
        "   ***Propiedades del Producto Cartesiano***\n",
        "\n",
        "  - **Orden Importa**: $( (a, b) \\neq (b, a) )$ si $( a \\neq b )$.\n",
        "  - **Cardinalidad**: Si $( A )$ tiene $( m )$ elementos y $( B )$ tiene $( n )$ elementos, entonces $( A \\times B )$ tiene $( m \\cdot n )$ elementos.\n",
        "  - **Asociatividad**: $( (A \\times B) \\times C = A \\times (B \\times C)$).\n",
        "\n",
        "      El producto cartesiano es una operación fundamental en matemáticas y tiene aplicaciones en áreas como la teoría de conjuntos, la geometría, la teoría de números y la informática, entre otras.\n"
      ],
      "metadata": {
        "id": "9ewqXBU2nR06"
      }
    },
    {
      "cell_type": "markdown",
      "source": [
        "### ✅ ***Producto cartesiano de los Reales***"
      ],
      "metadata": {
        "id": "0nAFbasjuteu"
      }
    },
    {
      "cell_type": "markdown",
      "source": [
        "$[\n",
        "  \\mathbb{R} \\times \\mathbb{R} = \\{ (x, y) : x \\in \\mathbb{R}, y \\in \\mathbb{R} \\}\n",
        "  ]$\n",
        "\n",
        "  $[\n",
        "  \\mathbb{R}^2= \\{ (x, y) : x \\in \\mathbb{R}, y \\in \\mathbb{R} \\}\n",
        "  ]$\n",
        "\n",
        "  $[\n",
        "  \\mathbb{R}^3 = \\mathbb{R} \\times \\mathbb{R} \\times \\mathbb{R}\n",
        "  ]$\n",
        "\n",
        "  $[\n",
        "  \\mathbb{R}^n = \\{ (x_1, x_2, \\ldots, x_n) : x_1 \\in \\mathbb{R}, x_2 \\in \\mathbb{R}, \\ldots, x_n \\in \\mathbb{R} \\}\n",
        "  ]$\n",
        "\n",
        "  $[\n",
        "  \\mathbb{R}^n = \\{ (x_1, x_2, \\ldots, x_n) : \\forall i \\in [1, n], x_i \\in \\mathbb{R} \\}\n",
        "  ]$\n",
        "\n",
        "  $[\n",
        "  \\mathbb{R}^{\\mathbb{N}} = \\{ (x_1, x_2, x_3, \\ldots) : \\forall i \\in \\mathbb{N}, x_i \\in \\mathbb{R} \\}\n",
        "  ]$\n",
        "\n",
        "  $[\n",
        "  \\mathbb{R}^{\\mathbb{N}} = \\{ (x_i)_{i \\in \\mathbb{N}} : \\forall i \\in \\mathbb{N}, x_i \\in \\mathbb{R} \\}\n",
        "  ]$"
      ],
      "metadata": {
        "id": "2rPTzQ6LsVWw"
      }
    },
    {
      "cell_type": "markdown",
      "source": [
        "### ©️ ***Conjuntos segun su tendencia***\n",
        "\n",
        "### *Conjuntos finitos*\n",
        "- Ejemplos:\n",
        "  - `{1, 2, 3}`\n",
        "  - Alfabeto: `{a, b, ..., z}`\n",
        "  - Días de la semana\n",
        "\n",
        "### *Conjuntos infinitos*\n",
        "\n",
        "- Numerables\n",
        "  - Ejemplos:\n",
        "    - $(\\mathbb{N})$ (Números naturales)\n",
        "    - $(\\mathbb{Z})$ (Números enteros)\n",
        "\n",
        "- No numerables\n",
        "  - Ejemplos:\n",
        "   - $(\\mathbb{R})$ (Números reales)\n",
        "    - $(\\mathbb{C})$ (Números complejos)\n",
        "    - $(\\mathbb{R}^3)$ (Reales al cubo)\n",
        "    - $(\\mathbb{R}^n)$ (Reales a la N)\n",
        "    - $(\\mathbb{R}^{\\mathbb{N}})$ (Reales elevados a los naturales)"
      ],
      "metadata": {
        "id": "QLVE7eP8vFxY"
      }
    },
    {
      "cell_type": "markdown",
      "source": [
        "## 🎓 ***Conclusión***\n",
        "\n",
        "Esta clase ha cubierto los conceptos fundamentales de Python, los sistemas numéricos y la cardinalidad, proporcionando una base sólida para futuros estudios y aplicaciones prácticas. Python, con su sencillez y potencia, ofrece una excelente herramienta para el desarrollo en múltiples áreas, y la comprensión de los sistemas numéricos y la cardinalidad es crucial para diversas aplicaciones en programación y matemáticas."
      ],
      "metadata": {
        "id": "YKF_arY-L38o"
      }
    }
  ]
}